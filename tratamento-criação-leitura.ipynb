{
 "cells": [
  {
   "cell_type": "code",
   "execution_count": 1,
   "metadata": {},
   "outputs": [],
   "source": [
    "import sqlite3\n",
    "import os\n",
    "import glob\n",
    "import csv"
   ]
  },
  {
   "cell_type": "code",
   "execution_count": 2,
   "metadata": {},
   "outputs": [],
   "source": [
    "# Função para tratar os valores monetários e converter para o formato DECIMAL\n",
    "def tratar_valor_monetario(valor):\n",
    "    return float(valor.replace('.', '').replace(',', '.'))"
   ]
  },
  {
   "cell_type": "code",
   "execution_count": 3,
   "metadata": {},
   "outputs": [],
   "source": [
    "# Função para criar as tabelas no banco de dados\n",
    "def criar_tabelas(cursor):\n",
    "    # Criar a tabela para Saques\n",
    "    cursor.execute('''\n",
    "    CREATE TABLE IF NOT EXISTS Saques (\n",
    "        AnoMesReferencia TEXT,\n",
    "        AnoMesCompetencia TEXT,\n",
    "        UF TEXT,\n",
    "        CodigoMunicipioSIAFI INTEGER,\n",
    "        NomeMunicipioSIAFI TEXT,\n",
    "        CPFBeneficiario TEXT,\n",
    "        NISBeneficiario TEXT,\n",
    "        NomeBeneficiario TEXT,\n",
    "        DataSaque DATE,\n",
    "        ValorParcela DECIMAL\n",
    "    )\n",
    "    ''')\n",
    "\n",
    "    # Criar a tabela para Pagamentos\n",
    "    cursor.execute('''\n",
    "    CREATE TABLE IF NOT EXISTS Pagamentos (\n",
    "        AnoMesReferencia TEXT,\n",
    "        AnoMesCompetencia TEXT,\n",
    "        UF TEXT,\n",
    "        CodigoMunicipioSIAFI INTEGER,\n",
    "        NomeMunicipioSIAFI TEXT,\n",
    "        CPFBeneficiario TEXT,\n",
    "        NISBeneficiario TEXT,\n",
    "        NomeBeneficiario TEXT,\n",
    "        ValorParcela DECIMAL\n",
    "    )\n",
    "    ''')"
   ]
  },
  {
   "cell_type": "code",
   "execution_count": null,
   "metadata": {},
   "outputs": [],
   "source": []
  },
  {
   "cell_type": "code",
   "execution_count": 4,
   "metadata": {},
   "outputs": [],
   "source": [
    "# Função para processar cada arquivo CSV e inserir os dados nas tabelas apropriadas\n",
    "def processar_e_inserir_arquivos(pasta_raiz, cursor):\n",
    "    # Lista todas as subpastas seguindo o padrão especificado\n",
    "    subpastas = glob.glob(os.path.join(pasta_raiz, '2020??_BolsaFamilia_*'))\n",
    "    \n",
    "    for subpasta in subpastas:\n",
    "        # Determinar se a subpasta é para Saques ou Pagamentos\n",
    "        tipo = 'Saques' if 'Saques' in subpasta else 'Pagamentos'\n",
    "        \n",
    "        # Lista todos os arquivos CSV na subpasta\n",
    "        arquivos_csv = glob.glob(os.path.join(subpasta, '*.csv'))\n",
    "        \n",
    "        for arquivo_csv in arquivos_csv:\n",
    "            with open(arquivo_csv, 'r', encoding='ISO-8859-1') as csvfile:\n",
    "                csvreader = csv.reader(csvfile, delimiter=';')\n",
    "                next(csvreader, None)  # Pula o cabeçalho\n",
    "                \n",
    "                for row in csvreader:\n",
    "                    # Ajustar os campos de acordo com o tipo\n",
    "                    if tipo == 'Saques':\n",
    "                        AnoMesCompetencia, AnoMesReferencia, UF, CodigoMunicipioSIAFI, NomeMunicipioSIAFI, \\\n",
    "                        CPFBeneficiario, NISBeneficiario, NomeBeneficiario, DataSaque, ValorParcela = row\n",
    "                        \n",
    "                        DataSaque = DataSaque.split('/')[2] + '-' + DataSaque.split('/')[1] + '-' + DataSaque.split('/')[0]  # Ajustar a data para o formato YYYY-MM-DD\n",
    "                        ValorParcela = tratar_valor_monetario(ValorParcela)  # Converter o valor para DECIMAL\n",
    "                        \n",
    "                        cursor.execute('''\n",
    "                            INSERT INTO Saques (\n",
    "                                AnoMesCompetencia, AnoMesReferencia, UF, CodigoMunicipioSIAFI, NomeMunicipioSIAFI,\n",
    "                                CPFBeneficiario, NISBeneficiario, NomeBeneficiario, DataSaque, ValorParcela\n",
    "                            ) VALUES (?, ?, ?, ?, ?, ?, ?, ?, ?, ?)\n",
    "                        ''', (AnoMesCompetencia, AnoMesReferencia, UF, CodigoMunicipioSIAFI, NomeMunicipioSIAFI,\n",
    "                              CPFBeneficiario, NISBeneficiario, NomeBeneficiario, DataSaque, ValorParcela))\n",
    "                    else:\n",
    "                        AnoMesCompetencia, AnoMesReferencia, UF, CodigoMunicipioSIAFI, NomeMunicipioSIAFI, \\\n",
    "                        CPFBeneficiario, NISBeneficiario, NomeBeneficiario, ValorParcela = row\n",
    "                        \n",
    "                        ValorParcela = tratar_valor_monetario(ValorParcela)  # Converter o valor para DECIMAL\n",
    "                        \n",
    "                        cursor.execute('''\n",
    "                            INSERT INTO Pagamentos (\n",
    "                                AnoMesCompetencia, AnoMesReferencia, UF, CodigoMunicipioSIAFI, NomeMunicipioSIAFI,\n",
    "                                CPFBeneficiario, NISBeneficiario, NomeBeneficiario, ValorParcela\n",
    "                            ) VALUES (?, ?, ?, ?, ?, ?, ?, ?, ?)\n",
    "                        ''', (AnoMesCompetencia, AnoMesReferencia, UF, CodigoMunicipioSIAFI, NomeMunicipioSIAFI,\n",
    "                              CPFBeneficiario, NISBeneficiario, NomeBeneficiario, ValorParcela))\n"
   ]
  },
  {
   "cell_type": "code",
   "execution_count": 5,
   "metadata": {},
   "outputs": [],
   "source": [
    "# Caminho da pasta raiz onde as subpastas estarão localizadas\n",
    "pasta_raiz = '/projetos/Mestrado/FBD' \n",
    "\n",
    "# Conectar ao banco de dados\n",
    "conn = sqlite3.connect('BolsaFamilia2.db')\n",
    "cursor = conn.cursor()\n",
    "\n",
    "# Criar tabelas\n",
    "criar_tabelas(cursor)\n",
    "\n",
    "\n",
    "# Chamar a função para processar e inserir os arquivos\n",
    "processar_e_inserir_arquivos(pasta_raiz, cursor)\n",
    "\n",
    "# Salvar as alterações e fechar a conexão com o banco de dados\n",
    "conn.commit()\n",
    "conn.close()"
   ]
  },
  {
   "cell_type": "code",
   "execution_count": 6,
   "metadata": {},
   "outputs": [
    {
     "data": {
      "text/plain": [
       "([], [])"
      ]
     },
     "execution_count": 6,
     "metadata": {},
     "output_type": "execute_result"
    }
   ],
   "source": [
    "conn = sqlite3.connect('BolsaFamilia2.db')\n",
    "cursor = conn.cursor()\n",
    "\n",
    "# Consulta para selecionar os primeiros 5 registros da tabela Saques\n",
    "cursor.execute('SELECT * FROM Saques LIMIT 10')\n",
    "saques_samples = cursor.fetchall()\n",
    "\n",
    "# Consulta para selecionar os primeiros 5 registros da tabela Pagamentos\n",
    "cursor.execute('SELECT * FROM Pagamentos LIMIT 10')\n",
    "pagamentos_samples = cursor.fetchall()\n",
    "\n",
    "# Fechar a conexão após a consulta\n",
    "conn.close()\n",
    "\n",
    "# Retornar os resultados das consultas como exemplos\n",
    "(saques_samples, pagamentos_samples)"
   ]
  }
 ],
 "metadata": {
  "kernelspec": {
   "display_name": ".venv",
   "language": "python",
   "name": "python3"
  },
  "language_info": {
   "codemirror_mode": {
    "name": "ipython",
    "version": 3
   },
   "file_extension": ".py",
   "mimetype": "text/x-python",
   "name": "python",
   "nbconvert_exporter": "python",
   "pygments_lexer": "ipython3",
   "version": "3.11.5"
  }
 },
 "nbformat": 4,
 "nbformat_minor": 2
}
